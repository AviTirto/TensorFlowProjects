{
 "cells": [
  {
   "cell_type": "code",
   "execution_count": 1,
   "id": "bdd7c1e0",
   "metadata": {},
   "outputs": [
    {
     "name": "stderr",
     "output_type": "stream",
     "text": [
      "/Users/avitirto/anaconda3/lib/python3.10/site-packages/keras/src/layers/reshaping/flatten.py:37: UserWarning: Do not pass an `input_shape`/`input_dim` argument to a layer. When using Sequential models, prefer using an `Input(shape)` object as the first layer in the model instead.\n",
      "  super().__init__(**kwargs)\n"
     ]
    },
    {
     "name": "stdout",
     "output_type": "stream",
     "text": [
      "Epoch 1/5\n",
      "\u001b[1m1875/1875\u001b[0m \u001b[32m━━━━━━━━━━━━━━━━━━━━\u001b[0m\u001b[37m\u001b[0m \u001b[1m2s\u001b[0m 884us/step - accuracy: 0.7660 - loss: 0.6657\n",
      "Epoch 2/5\n",
      "\u001b[1m1875/1875\u001b[0m \u001b[32m━━━━━━━━━━━━━━━━━━━━\u001b[0m\u001b[37m\u001b[0m \u001b[1m2s\u001b[0m 884us/step - accuracy: 0.8516 - loss: 0.4112\n",
      "Epoch 3/5\n",
      "\u001b[1m1875/1875\u001b[0m \u001b[32m━━━━━━━━━━━━━━━━━━━━\u001b[0m\u001b[37m\u001b[0m \u001b[1m2s\u001b[0m 882us/step - accuracy: 0.8636 - loss: 0.3741\n",
      "Epoch 4/5\n",
      "\u001b[1m1875/1875\u001b[0m \u001b[32m━━━━━━━━━━━━━━━━━━━━\u001b[0m\u001b[37m\u001b[0m \u001b[1m2s\u001b[0m 915us/step - accuracy: 0.8705 - loss: 0.3534\n",
      "Epoch 5/5\n",
      "\u001b[1m1875/1875\u001b[0m \u001b[32m━━━━━━━━━━━━━━━━━━━━\u001b[0m\u001b[37m\u001b[0m \u001b[1m2s\u001b[0m 914us/step - accuracy: 0.8785 - loss: 0.3322\n"
     ]
    },
    {
     "data": {
      "text/plain": [
       "<keras.src.callbacks.history.History at 0x17c841f30>"
      ]
     },
     "execution_count": 1,
     "metadata": {},
     "output_type": "execute_result"
    }
   ],
   "source": [
    "import tensorflow as tf\n",
    "import tensorflow_datasets as tfds\n",
    "\n",
    "(training_imgs, training_labels), (testing_imgs, testing_labels) = tfds.as_numpy(tfds.load(\n",
    "    \"fashion_mnist\", # name of dataset\n",
    "    split = [\"train\", \"test\"], # generates an array of Dataset Adapters\n",
    "    batch_size = -1,  # loads all the data\n",
    "    as_supervised = True # makes sure that the return is a tuple of the form (input, label)\n",
    "))\n",
    "\n",
    "training_imgs = training_imgs/255.0\n",
    "testing_imgs = testing_imgs/255.0\n",
    "\n",
    "from tensorflow.keras import Sequential\n",
    "from tensorflow.keras.layers import Dense, Flatten, Dropout\n",
    "\n",
    "model = Sequential([\n",
    "    Flatten(input_shape = (28, 28, 1)),\n",
    "    Dense(128, activation = \"relu\"),\n",
    "    Dropout(0.2),\n",
    "    Dense(10, activation = \"softmax\")\n",
    "])\n",
    "\n",
    "model.compile(\n",
    "    optimizer = \"adam\",\n",
    "    loss = \"sparse_categorical_crossentropy\",\n",
    "    metrics = [\"accuracy\"]\n",
    ")\n",
    "\n",
    "model.fit(\n",
    "    training_imgs, training_labels,\n",
    "    epochs = 5\n",
    ")\n"
   ]
  },
  {
   "cell_type": "code",
   "execution_count": 2,
   "id": "a9427be0",
   "metadata": {},
   "outputs": [
    {
     "name": "stdout",
     "output_type": "stream",
     "text": [
      "\u001b[1m313/313\u001b[0m \u001b[32m━━━━━━━━━━━━━━━━━━━━\u001b[0m\u001b[37m\u001b[0m \u001b[1m0s\u001b[0m 518us/step - accuracy: 0.8795 - loss: 0.3380\n"
     ]
    },
    {
     "data": {
      "text/plain": [
       "[0.3494609594345093, 0.8755999803543091]"
      ]
     },
     "execution_count": 2,
     "metadata": {},
     "output_type": "execute_result"
    }
   ],
   "source": [
    "model.evaluate(testing_imgs, testing_labels)"
   ]
  },
  {
   "cell_type": "code",
   "execution_count": 3,
   "id": "b92d938d",
   "metadata": {},
   "outputs": [
    {
     "name": "stdout",
     "output_type": "stream",
     "text": [
      "tfds.core.DatasetInfo(\n",
      "    name='horses_or_humans',\n",
      "    full_name='horses_or_humans/3.0.0',\n",
      "    description=\"\"\"\n",
      "    A large set of images of horses and humans.\n",
      "    \"\"\",\n",
      "    homepage='http://laurencemoroney.com/horses-or-humans-dataset',\n",
      "    data_dir='/Users/avitirto/tensorflow_datasets/horses_or_humans/3.0.0',\n",
      "    file_format=tfrecord,\n",
      "    download_size=153.59 MiB,\n",
      "    dataset_size=153.53 MiB,\n",
      "    features=FeaturesDict({\n",
      "        'image': Image(shape=(300, 300, 3), dtype=uint8),\n",
      "        'label': ClassLabel(shape=(), dtype=int64, num_classes=2),\n",
      "    }),\n",
      "    supervised_keys=('image', 'label'),\n",
      "    disable_shuffling=False,\n",
      "    splits={\n",
      "        'test': <SplitInfo num_examples=256, num_shards=1>,\n",
      "        'train': <SplitInfo num_examples=1027, num_shards=2>,\n",
      "    },\n",
      "    citation=\"\"\"@ONLINE {horses_or_humans,\n",
      "    author = \"Laurence Moroney\",\n",
      "    title = \"Horses or Humans Dataset\",\n",
      "    month = \"feb\",\n",
      "    year = \"2019\",\n",
      "    url = \"http://laurencemoroney.com/horses-or-humans-dataset\"\n",
      "    }\"\"\",\n",
      ")\n"
     ]
    }
   ],
   "source": [
    "def augmentation(img, label):\n",
    "    img = tf.cast(img, tf.float32)\n",
    "    img = (img/255) # normalization\n",
    "    img = tf.image.random_flip_left_right(img)\n",
    "    return img, label\n",
    "\n",
    "data, info = tfds.load('horses_or_humans', split = 'train', as_supervised=True, with_info = True)\n",
    "train_data = data.map(augmentation)\n",
    "print(info)"
   ]
  },
  {
   "cell_type": "code",
   "execution_count": 4,
   "id": "cc11e013",
   "metadata": {},
   "outputs": [
    {
     "name": "stdout",
     "output_type": "stream",
     "text": [
      "Epoch 1/10\n"
     ]
    },
    {
     "name": "stderr",
     "output_type": "stream",
     "text": [
      "/Users/avitirto/anaconda3/lib/python3.10/site-packages/keras/src/layers/convolutional/base_conv.py:107: UserWarning: Do not pass an `input_shape`/`input_dim` argument to a layer. When using Sequential models, prefer using an `Input(shape)` object as the first layer in the model instead.\n",
      "  super().__init__(activity_regularizer=activity_regularizer, **kwargs)\n"
     ]
    },
    {
     "name": "stdout",
     "output_type": "stream",
     "text": [
      "\u001b[1m103/103\u001b[0m \u001b[32m━━━━━━━━━━━━━━━━━━━━\u001b[0m\u001b[37m\u001b[0m \u001b[1m32s\u001b[0m 279ms/step - accuracy: 0.8238 - loss: 1.1448 - val_accuracy: 0.4000 - val_loss: 135.9653\n",
      "Epoch 2/10\n",
      "\u001b[1m103/103\u001b[0m \u001b[32m━━━━━━━━━━━━━━━━━━━━\u001b[0m\u001b[37m\u001b[0m \u001b[1m29s\u001b[0m 280ms/step - accuracy: 0.9550 - loss: 0.1339 - val_accuracy: 0.5000 - val_loss: 357.2610\n",
      "Epoch 3/10\n",
      "\u001b[1m103/103\u001b[0m \u001b[32m━━━━━━━━━━━━━━━━━━━━\u001b[0m\u001b[37m\u001b[0m \u001b[1m29s\u001b[0m 285ms/step - accuracy: 0.9706 - loss: 0.0931 - val_accuracy: 0.8000 - val_loss: 38.4026\n",
      "Epoch 4/10\n",
      "\u001b[1m103/103\u001b[0m \u001b[32m━━━━━━━━━━━━━━━━━━━━\u001b[0m\u001b[37m\u001b[0m \u001b[1m29s\u001b[0m 285ms/step - accuracy: 1.0000 - loss: 0.0036 - val_accuracy: 0.7000 - val_loss: 236.5831\n",
      "Epoch 5/10\n",
      "\u001b[1m103/103\u001b[0m \u001b[32m━━━━━━━━━━━━━━━━━━━━\u001b[0m\u001b[37m\u001b[0m \u001b[1m29s\u001b[0m 282ms/step - accuracy: 1.0000 - loss: 5.9056e-04 - val_accuracy: 0.8000 - val_loss: 197.8401\n",
      "Epoch 6/10\n",
      "\u001b[1m103/103\u001b[0m \u001b[32m━━━━━━━━━━━━━━━━━━━━\u001b[0m\u001b[37m\u001b[0m \u001b[1m30s\u001b[0m 286ms/step - accuracy: 1.0000 - loss: 2.3787e-04 - val_accuracy: 1.0000 - val_loss: 0.0000e+00\n",
      "Epoch 7/10\n",
      "\u001b[1m103/103\u001b[0m \u001b[32m━━━━━━━━━━━━━━━━━━━━\u001b[0m\u001b[37m\u001b[0m \u001b[1m29s\u001b[0m 283ms/step - accuracy: 0.9996 - loss: 0.0014 - val_accuracy: 0.4000 - val_loss: 338.6417\n",
      "Epoch 8/10\n",
      "\u001b[1m103/103\u001b[0m \u001b[32m━━━━━━━━━━━━━━━━━━━━\u001b[0m\u001b[37m\u001b[0m \u001b[1m30s\u001b[0m 294ms/step - accuracy: 0.9148 - loss: 0.3695 - val_accuracy: 0.4000 - val_loss: 1523.8699\n",
      "Epoch 9/10\n",
      "\u001b[1m103/103\u001b[0m \u001b[32m━━━━━━━━━━━━━━━━━━━━\u001b[0m\u001b[37m\u001b[0m \u001b[1m31s\u001b[0m 305ms/step - accuracy: 0.9832 - loss: 0.0617 - val_accuracy: 1.0000 - val_loss: 0.0000e+00\n",
      "Epoch 10/10\n",
      "\u001b[1m103/103\u001b[0m \u001b[32m━━━━━━━━━━━━━━━━━━━━\u001b[0m\u001b[37m\u001b[0m \u001b[1m30s\u001b[0m 289ms/step - accuracy: 0.9900 - loss: 0.0227 - val_accuracy: 0.6000 - val_loss: 2933.1372\n"
     ]
    },
    {
     "name": "stderr",
     "output_type": "stream",
     "text": [
      "2024-06-01 19:09:02.525683: W tensorflow/core/kernels/data/cache_dataset_ops.cc:858] The calling iterator did not fully read the dataset being cached. In order to avoid unexpected truncation of the dataset, the partially cached contents of the dataset  will be discarded. This can happen if you have an input pipeline similar to `dataset.cache().take(k).repeat()`. You should use `dataset.take(k).cache().repeat()` instead.\n"
     ]
    }
   ],
   "source": [
    "data = tfds.load(\"horses_or_humans\", split = \"test\", as_supervised = True)\n",
    "valid_data = data.batch(10)\n",
    "from tensorflow.keras.layers import BatchNormalization, Conv2D, MaxPooling2D\n",
    "\n",
    "model = Sequential([\n",
    "    BatchNormalization(),\n",
    "    Conv2D(16, kernel_size = (3,3), activation = \"relu\", input_shape = (300, 300, 3)),\n",
    "    MaxPooling2D(2, 2),\n",
    "    BatchNormalization(),\n",
    "    Conv2D(32, kernel_size = (3,3), activation = \"relu\"),\n",
    "    MaxPooling2D(2,2),\n",
    "    BatchNormalization(),\n",
    "    Conv2D(64, kernel_size = (3,3), activation = \"relu\"),\n",
    "    MaxPooling2D(2,2),\n",
    "    BatchNormalization(),\n",
    "    Conv2D(64, kernel_size = (3,3), activation = \"relu\"),\n",
    "    MaxPooling2D(2,2),\n",
    "    BatchNormalization(),\n",
    "    Conv2D(64, kernel_size = (3,3), activation = \"relu\"),\n",
    "    MaxPooling2D(2,2),\n",
    "    Flatten(),\n",
    "    Dense(512, activation = \"relu\"),\n",
    "    Dense(1, activation = \"sigmoid\")\n",
    "])\n",
    "\n",
    "model.compile(\n",
    "    optimizer = \"adam\",\n",
    "    loss = \"binary_crossentropy\",\n",
    "    metrics = [\"accuracy\"]\n",
    ")\n",
    "\n",
    "train_batches = train_data.shuffle(100).batch(10) # Shuffles and Makes batches of 10\n",
    "\n",
    "history = model.fit(train_batches,\n",
    "          epochs = 10,\n",
    "          validation_data = valid_data,\n",
    "          validation_steps = 1\n",
    "         )"
   ]
  },
  {
   "cell_type": "code",
   "execution_count": 6,
   "id": "67a37414",
   "metadata": {},
   "outputs": [
    {
     "name": "stdout",
     "output_type": "stream",
     "text": [
      "Maximum validation accuracy: 1.0\n"
     ]
    },
    {
     "data": {
      "image/png": "[encoded data removed]",
      "text/plain": [
       "<Figure size 640x480 with 1 Axes>"
      ]
     },
     "metadata": {},
     "output_type": "display_data"
    }
   ],
   "source": [
    "import pandas as pd\n",
    "history_df = pd.DataFrame(history.history)\n",
    "history_df.loc[:, ['accuracy', 'val_accuracy']].plot()\n",
    "print(\"Maximum validation accuracy: {}\".format(history_df['val_accuracy'].max()))"
   ]
  },
  {
   "cell_type": "code",
   "execution_count": null,
   "id": "b66e8bd8",
   "metadata": {},
   "outputs": [],
   "source": []
  }
 ],
 "metadata": {
  "kernelspec": {
   "display_name": "Python 3 (ipykernel)",
   "language": "python",
   "name": "python3"
  },
  "language_info": {
   "codemirror_mode": {
    "name": "ipython",
    "version": 3
   },
   "file_extension": ".py",
   "mimetype": "text/x-python",
   "name": "python",
   "nbconvert_exporter": "python",
   "pygments_lexer": "ipython3",
   "version": "3.10.9"
  }
 },
 "nbformat": 4,
 "nbformat_minor": 5
}
